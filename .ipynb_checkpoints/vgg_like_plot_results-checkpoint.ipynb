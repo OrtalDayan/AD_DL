{
 "cells": [
  {
   "cell_type": "code",
   "execution_count": null,
   "metadata": {},
   "outputs": [],
   "source": [
    "import os\n",
    "\n",
    "import numpy as np\n",
    "\n",
    "import matplotlib.pyplot as plt\n",
    "import seaborn as sns\n",
    "%matplotlib inline"
   ]
  },
  {
   "cell_type": "markdown",
   "metadata": {},
   "source": [
    "-----"
   ]
  },
  {
   "cell_type": "markdown",
   "metadata": {},
   "source": [
    "## AD vs Normal"
   ]
  },
  {
   "cell_type": "code",
   "execution_count": null,
   "metadata": {},
   "outputs": [],
   "source": [
    "def plot(sm_folder, s):\n",
    "    cv_results = []\n",
    "    for i in range(5):\n",
    "        # loading cv results\n",
    "        with np.load(sm_folder + s + str(i) + '.npz') as f:\n",
    "            cv_results.append([f['arr_%d' % i]\n",
    "                               for i in range(len(f.files))][0])\n",
    "    cv_results = np.array(cv_results)\n",
    "\n",
    "    tmplate = 2  # accuracy\n",
    "    plt.figure()\n",
    "    plt.plot(cv_results[:, :, tmplate, :].mean(axis=0).mean(axis=0))\n",
    "    y1 = cv_results[:, :, tmplate, :].mean(axis=0).mean(\n",
    "        axis=0) + cv_results[:, :, tmplate, :].reshape(25, -1).std(axis=0)\n",
    "    y2 = cv_results[:, :, tmplate, :].mean(axis=0).mean(\n",
    "        axis=0) - cv_results[:, :, tmplate, :].reshape(25, -1).std(axis=0)\n",
    "    plt.fill_between(np.arange(len(y1)), y1, y2, alpha=0.2)\n",
    "    plt.title('mean accuracy ' + s[11:-1])\n",
    "    plt.ylabel('accuracy')\n",
    "    plt.xlabel('epoch')\n",
    "    # plt.savefig('mean_roc_auc__5_fold_'+ LABEL_1+'_vs_'+ LABEL_2 +'_'+str(i)+'.png')\n",
    "    print('Accuracy: ' + str(cv_results[:, :, tmplate, :].mean(axis=0).mean(\n",
    "        axis=0)[-1]) + ' ± ' + str(\n",
    "        cv_results[:, :, tmplate, :].reshape(25, -1).std(axis=0)[-1]))\n",
    "\n",
    "    tmplate = 3  # roc auc\n",
    "    plt.figure()\n",
    "    plt.plot(np.array(cv_results)[:, :, tmplate, :].mean(axis=0).mean(axis=0))\n",
    "    y1 = np.array(cv_results)[:, :, tmplate, :].mean(axis=0).mean(\n",
    "        axis=0) + np.array(cv_results)[:, :, tmplate, :].reshape(25, -1).std(\n",
    "        axis=0)\n",
    "    y2 = np.array(cv_results)[:, :, tmplate, :].mean(axis=0).mean(\n",
    "        axis=0) - np.array(cv_results)[:, :, tmplate, :].reshape(25, -1).std(\n",
    "        axis=0)\n",
    "    plt.fill_between(np.arange(len(y1)), y1, y2, alpha=0.2)\n",
    "    plt.title('mean roc_auc ' + s[11:-1])\n",
    "    plt.ylabel('roc_auc')\n",
    "    plt.xlabel('epoch')\n",
    "    # plt.savefig('mean_roc_auc__5_fold_'+ LABEL_1+'_vs_'+ LABEL_2 +'_'+str(i)+'.png')\n",
    "    print('ROC AUC: ' + str(\n",
    "        np.array(cv_results)[:, :, tmplate, :].mean(axis=0).mean(\n",
    "            axis=0)[-1]) + ' ± ' + str(\n",
    "        np.array(cv_results)[:, :, tmplate, :].reshape(25, -1).std(axis=0)[-1]))"
   ]
  },
  {
   "cell_type": "markdown",
   "metadata": {},
   "source": [
    "_____"
   ]
  },
  {
   "cell_type": "markdown",
   "metadata": {
    "collapsed": true
   },
   "source": [
    "### AD vs Normal"
   ]
  },
  {
   "cell_type": "code",
   "execution_count": null,
   "metadata": {},
   "outputs": [],
   "source": [
    "sm_folder = './results/ad_vs_norm/'\n",
    "s = 'cv_results_AD_vs_Normal_'\n",
    "plot(sm_folder, s)"
   ]
  },
  {
   "cell_type": "markdown",
   "metadata": {},
   "source": [
    "_____"
   ]
  },
  {
   "cell_type": "markdown",
   "metadata": {},
   "source": [
    "### AD LMCI"
   ]
  },
  {
   "cell_type": "code",
   "execution_count": null,
   "metadata": {},
   "outputs": [],
   "source": [
    "sm_folder = './results_cnn/ad_vs_lmci/'\n",
    "s = 'cv_results_AD_vs_LMCI_'\n",
    "plot(sm_folder, s)"
   ]
  },
  {
   "cell_type": "markdown",
   "metadata": {},
   "source": [
    "______"
   ]
  },
  {
   "cell_type": "markdown",
   "metadata": {},
   "source": [
    "### AD EMCI"
   ]
  },
  {
   "cell_type": "code",
   "execution_count": null,
   "metadata": {},
   "outputs": [],
   "source": [
    "s = 'cv_results_AD_vs_EMCI_'\n",
    "sm_folder = './results_cnn/ad_vs_emci/'\n",
    "plot(sm_folder, s)"
   ]
  },
  {
   "cell_type": "markdown",
   "metadata": {},
   "source": [
    "_______"
   ]
  },
  {
   "cell_type": "markdown",
   "metadata": {},
   "source": [
    "### Normal vs EMCI"
   ]
  },
  {
   "cell_type": "code",
   "execution_count": null,
   "metadata": {},
   "outputs": [],
   "source": [
    "s = 'cv_results_Normal_vs_EMCI_'\n",
    "sm_folder = './results_cnn/norm_vs_emci/'\n",
    "plot(sm_folder, s)"
   ]
  },
  {
   "cell_type": "markdown",
   "metadata": {},
   "source": [
    "_______"
   ]
  },
  {
   "cell_type": "markdown",
   "metadata": {},
   "source": [
    "### Normal vs LMCI"
   ]
  },
  {
   "cell_type": "code",
   "execution_count": null,
   "metadata": {},
   "outputs": [],
   "source": [
    "s = 'cv_results_Normal_vs_LMCI_'\n",
    "sm_folder = './results_cnn/norm_vs_lmci/'\n",
    "plot(sm_folder, s)"
   ]
  },
  {
   "cell_type": "markdown",
   "metadata": {},
   "source": [
    "______"
   ]
  },
  {
   "cell_type": "markdown",
   "metadata": {},
   "source": [
    "### EMCI vs LMCI"
   ]
  },
  {
   "cell_type": "code",
   "execution_count": null,
   "metadata": {},
   "outputs": [],
   "source": [
    "s = 'cv_results_EMCI_vs_LMCI_'\n",
    "sm_folder = './results_cnn/emci_vs_lmci/'\n",
    "plot(sm_folder, s)"
   ]
  }
 ],
 "metadata": {
  "kernelspec": {
   "display_name": "Python 3",
   "language": "python",
   "name": "python3"
  },
  "language_info": {
   "codemirror_mode": {
    "name": "ipython",
    "version": 3
   },
   "file_extension": ".py",
   "mimetype": "text/x-python",
   "name": "python",
   "nbconvert_exporter": "python",
   "pygments_lexer": "ipython3",
   "version": "3.6.3"
  }
 },
 "nbformat": 4,
 "nbformat_minor": 1
}
