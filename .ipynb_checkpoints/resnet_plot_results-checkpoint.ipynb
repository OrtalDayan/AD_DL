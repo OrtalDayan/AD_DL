{
 "cells": [
  {
   "cell_type": "code",
   "execution_count": null,
   "metadata": {
    "collapsed": true
   },
   "outputs": [],
   "source": [
    "import numpy as np\n",
    "import matplotlib.pyplot as plt\n",
    "import seaborn as sns; sns.set(style='whitegrid')\n",
    "%matplotlib inline"
   ]
  },
  {
   "cell_type": "markdown",
   "metadata": {},
   "source": [
    "## Plot all folds and splits learning curves"
   ]
  },
  {
   "cell_type": "code",
   "execution_count": null,
   "metadata": {
    "collapsed": true
   },
   "outputs": [],
   "source": [
    "def plot_curves(results_folder):\n",
    "    \"\"\"Plot learning curves, accuracies and ROC AUC from epoch.\n",
    "\n",
    "    Parameters\n",
    "    ----------\n",
    "    folder : string\n",
    "        Location of the results .npy files.\n",
    "    \"\"\"\n",
    "    for cvrand in range(5):\n",
    "        for fold in range(5):\n",
    "            eps = np.load('./{}/{}_{}nm_eps.npy'.format(results_folder,\n",
    "                                                        cvrand, fold))\n",
    "            tr_loss = np.load('./{}/{}_{}nm_tr_loss.npy'.format(results_folder,\n",
    "                                                                cvrand, fold))\n",
    "            vl_loss = np.load('./{}/{}_{}nm_vl_loss.npy'.format(results_folder,\n",
    "                                                                cvrand, fold))\n",
    "            vl_acc = np.load('./{}/{}_{}nm_vl_accs.npy'.format(results_folder,\n",
    "                                                               cvrand, fold))\n",
    "            vl_roc = np.load('./{}/{}_{}nm_vl_rocs.npy'.format(results_folder,\n",
    "                                                               cvrand, fold))\n",
    "            plt.figure(figsize=(15, 7))\n",
    "            plt.plot(eps, tr_loss, label='train_loss')\n",
    "            plt.plot(eps, vl_loss, label='val_loss')\n",
    "            plt.plot(eps, vl_acc, label='val_accuracy')\n",
    "            plt.plot(eps, vl_roc, label='val_rocauc')\n",
    "            plt.ylim((0., 1.))\n",
    "            plt.title('Nesterov')\n",
    "            plt.legend(loc=0, frameon=True, framealpha=1)\n",
    "            plt.show()"
   ]
  },
  {
   "cell_type": "code",
   "execution_count": null,
   "metadata": {
    "collapsed": true
   },
   "outputs": [],
   "source": [
    "plot_curves('./results_resnet/ad_vs_norm')"
   ]
  },
  {
   "cell_type": "code",
   "execution_count": null,
   "metadata": {
    "collapsed": true
   },
   "outputs": [],
   "source": [
    "plot_curves('./results_resnet/ad_vs_emci')"
   ]
  },
  {
   "cell_type": "code",
   "execution_count": null,
   "metadata": {
    "collapsed": true
   },
   "outputs": [],
   "source": [
    "plot_curves('./results_resnet/ad_vs_lmci')"
   ]
  },
  {
   "cell_type": "code",
   "execution_count": null,
   "metadata": {
    "collapsed": true
   },
   "outputs": [],
   "source": [
    "plot_curves('./results_resnet/emci_vs_norm')"
   ]
  },
  {
   "cell_type": "code",
   "execution_count": null,
   "metadata": {
    "collapsed": true
   },
   "outputs": [],
   "source": [
    "plot_curves('./results_resnet/lmci_vs_norm')"
   ]
  },
  {
   "cell_type": "code",
   "execution_count": null,
   "metadata": {
    "collapsed": true
   },
   "outputs": [],
   "source": [
    "plot_curves('./results_resnet/lmci_vs_emci')"
   ]
  },
  {
   "cell_type": "markdown",
   "metadata": {},
   "source": [
    "## Plot ROC AUC curves with mean and std"
   ]
  },
  {
   "cell_type": "code",
   "execution_count": null,
   "metadata": {
    "collapsed": true
   },
   "outputs": [],
   "source": [
    "def plot_auc(results_folder):\n",
    "    \"\"\"Plot ROC AUC curves with mean and std from epoch.\n",
    "\n",
    "    Parameters\n",
    "    ----------\n",
    "    folder : string\n",
    "        Location of the results .npy files.\n",
    "    \"\"\"\n",
    "    eps = np.load('./{}/{}_{}nm_eps.npy'.format(results_folder,\n",
    "                                                0, 0))\n",
    "    vl_roc = np.zeros(eps.shape)\n",
    "    for cvrand in range(5):\n",
    "        for fold in range(5):\n",
    "            eps = np.load('./{}/{}_{}nm_eps.npy'.format(results_folder,\n",
    "                                                        cvrand, fold))\n",
    "            vl_roc = np.vstack((vl_roc,\n",
    "                                np.load('./{}/{}_{}nm_vl_rocs.npy'.format(\n",
    "                                    results_folder, cvrand, fold))))\n",
    "    plt.figure(figsize=(15, 7))\n",
    "    plt.plot(eps, vl_roc[1:].mean(axis=0), label='val_rocauc')\n",
    "    plt.fill_between(eps, vl_roc[1:].mean(axis=0) + vl_roc[1:].std(axis=0),\n",
    "                     vl_roc[1:].mean(axis=0) - vl_roc[1:].std(axis=0),\n",
    "                     alpha=.3)\n",
    "    plt.ylim((0., 1.))\n",
    "    plt.xlabel('Epoch')\n",
    "    plt.legend(loc=0, frameon=True, framealpha=1)\n",
    "    plt.show()\n",
    "    print('AUC = {:.5f} +/- {:.5f}'.format(vl_roc[1:].mean(axis=0)[-1], vl_roc[1:].std(axis=0)[-1]))"
   ]
  },
  {
   "cell_type": "code",
   "execution_count": null,
   "metadata": {
    "collapsed": true
   },
   "outputs": [],
   "source": [
    "plot_auc('./results_resnet/ad_vs_norm')"
   ]
  },
  {
   "cell_type": "code",
   "execution_count": null,
   "metadata": {
    "collapsed": true
   },
   "outputs": [],
   "source": [
    "plot_auc('./results_resnet/ad_vs_emci')"
   ]
  },
  {
   "cell_type": "code",
   "execution_count": null,
   "metadata": {
    "collapsed": true
   },
   "outputs": [],
   "source": [
    "plot_auc('./results_resnet/ad_vs_lmci')"
   ]
  },
  {
   "cell_type": "code",
   "execution_count": null,
   "metadata": {
    "collapsed": true
   },
   "outputs": [],
   "source": [
    "plot_auc('./results_resnet/emci_vs_norm')"
   ]
  },
  {
   "cell_type": "code",
   "execution_count": null,
   "metadata": {
    "collapsed": true
   },
   "outputs": [],
   "source": [
    "plot_auc('./results_resnet/lmci_vs_norm')"
   ]
  },
  {
   "cell_type": "code",
   "execution_count": null,
   "metadata": {
    "collapsed": true
   },
   "outputs": [],
   "source": [
    "plot_auc('./results_resnet/lmci_vs_emci')"
   ]
  }
 ],
 "metadata": {
  "kernelspec": {
   "display_name": "Python 3",
   "language": "python",
   "name": "python3"
  },
  "language_info": {
   "codemirror_mode": {
    "name": "ipython",
    "version": 3
   },
   "file_extension": ".py",
   "mimetype": "text/x-python",
   "name": "python",
   "nbconvert_exporter": "python",
   "pygments_lexer": "ipython3",
   "version": "3.6.3"
  }
 },
 "nbformat": 4,
 "nbformat_minor": 1
}
