{
 "cells": [
  {
   "cell_type": "code",
   "execution_count": null,
   "metadata": {},
   "outputs": [],
   "source": [
    "import pandas as pd\n",
    "import numpy as np\n",
    "import nibabel as nib\n",
    "from tqdm import tqdm\n",
    "from sklearn.cross_validation import StratifiedKFold\n",
    "import lasagne\n",
    "import theano\n",
    "from lasagne.layers import InputLayer\n",
    "from lasagne.layers.dnn import Conv3DDNNLayer\n",
    "from lasagne.layers.dnn import Pool3DDNNLayer\n",
    "from lasagne.layers import BatchNormLayer\n",
    "from lasagne.layers import NonlinearityLayer\n",
    "from lasagne.layers import ElemwiseSumLayer\n",
    "from lasagne.layers import DenseLayer\n",
    "from lasagne.nonlinearities import identity, softmax\n",
    "import theano.tensor as T\n",
    "import pickle\n",
    "from skimage.transform import rotate\n",
    "import matplotlib.pyplot as plt\n",
    "%matplotlib inline"
   ]
  },
  {
   "cell_type": "code",
   "execution_count": null,
   "metadata": {
    "collapsed": true
   },
   "outputs": [],
   "source": [
    "input_var = T.tensor5(name='input', dtype='float32')\n",
    "target_var = T.ivector()"
   ]
  },
  {
   "cell_type": "markdown",
   "metadata": {},
   "source": [
    "### Function for heatmap calculation"
   ]
  },
  {
   "cell_type": "code",
   "execution_count": null,
   "metadata": {
    "collapsed": true
   },
   "outputs": [],
   "source": [
    "def occlusion_heatmap(net, x, label, square_size=7, batchsize=1):\n",
    "    \"\"\"\n",
    "    Parameters\n",
    "    ----------\n",
    "    net : Lasagne Layer\n",
    "        The neural net to test.\n",
    "    x : np.array\n",
    "        The input data, should be of shape (1, c, x, y, z).\n",
    "    label : int\n",
    "        Sample label\n",
    "    square_size : int, optional (default=7)\n",
    "        The length of the side of the square that occludes the image.\n",
    "    batchsize : int, optional (default=1)\n",
    "        Number of images in batch for inference pass.\n",
    "        \n",
    "    Results\n",
    "    -------\n",
    "    np.array\n",
    "        3D np.array that at each point (i, j) contains the predicted\n",
    "        probability of the correct class if the image is occluded by a\n",
    "        square with center (i, j).\n",
    "    \"\"\"\n",
    "    if (x.ndim != 5) or x.shape[0] != 1:\n",
    "        raise ValueError(\"This function requires the input data to be of shape\"\n",
    "                         \" (1, c, x, y, z), instead got {}\".format(x.shape))\n",
    "    if square_size % 2 == 0:\n",
    "        raise ValueError(\"Square length has to be an odd number, instead \"\n",
    "                         \"got {}.\".format(square_size))\n",
    "\n",
    "    num_classes = 2\n",
    "    img = x[0].copy()\n",
    "    bs, col, s0, s1, s2 = x.shape\n",
    "\n",
    "    pad = square_size // 2 + 1\n",
    "    x_occluded = np.zeros((s2, col, s0, s1, s2), dtype=img.dtype)\n",
    "    probs = np.zeros((s0, s1, s2, num_classes))\n",
    "\n",
    "    for i in range(s0):\n",
    "        for j in tqdm(range(s1), desc='x = {}'.format(i)):\n",
    "            batch_iter = 1\n",
    "            batch = []\n",
    "            for k in range(s2):\n",
    "                x_pad = np.pad(img, ((0, 0), (pad, pad),\n",
    "                                     (pad, pad), (pad, pad)), 'constant')\n",
    "                x_pad[:,\n",
    "                      i:i + square_size,\n",
    "                      j:j + square_size,\n",
    "                      k:k + square_size] = 0.\n",
    "                x_occluded = x_pad[:, pad:-pad, pad:-pad, pad:-pad]\n",
    "                batch.append(x_occluded)\n",
    "                if batch_iter % batchsize == 0:\n",
    "                    y_proba = test_fn(np.array(batch).reshape((-1, 1, 110, 110, 110)))\n",
    "                    probs[i, j, k - batchsize + 1:k + 1, :] = y_proba\n",
    "                    batch_iter = 0\n",
    "                    batch = []\n",
    "                batch_iter += 1\n",
    "\n",
    "    return probs"
   ]
  },
  {
   "cell_type": "code",
   "execution_count": null,
   "metadata": {
    "collapsed": true
   },
   "outputs": [],
   "source": [
    "def build_net():\n",
    "    \"\"\"Method for VoxResNet Building.\n",
    "\n",
    "    Returns\n",
    "    -------\n",
    "    dictionary\n",
    "        Network dictionary.\n",
    "    \"\"\"\n",
    "    net = {}\n",
    "    net['input'] = InputLayer((None, 1, 110, 110, 110), input_var=input_var)\n",
    "    net['conv1a'] = Conv3DDNNLayer(net['input'], 32, 3, pad='same',\n",
    "                                   nonlinearity=identity)\n",
    "    net['bn1a'] = BatchNormLayer(net['conv1a'])\n",
    "    net['relu1a'] = NonlinearityLayer(net['bn1a'])\n",
    "    net['conv1b'] = Conv3DDNNLayer(net['relu1a'], 32, 3, pad='same',\n",
    "                                   nonlinearity=identity)\n",
    "    net['bn1b'] = BatchNormLayer(net['conv1b'])\n",
    "    net['relu1b'] = NonlinearityLayer(net['bn1b'])\n",
    "    net['conv1c'] = Conv3DDNNLayer(net['relu1b'], 64, 3, stride=(2, 2, 2),\n",
    "                                   pad='same', nonlinearity=identity)\n",
    "    # VoxRes block 2\n",
    "    net['voxres2_bn1'] = BatchNormLayer(net['conv1c'])\n",
    "    net['voxres2_relu1'] = NonlinearityLayer(net['voxres2_bn1'])\n",
    "    net['voxres2_conv1'] = Conv3DDNNLayer(net['voxres2_relu1'], 64, 3,\n",
    "                                          pad='same', nonlinearity=identity)\n",
    "    net['voxres2_bn2'] = BatchNormLayer(net['voxres2_conv1'])\n",
    "    net['voxres2_relu2'] = NonlinearityLayer(net['voxres2_bn2'])\n",
    "    net['voxres2_conv2'] = Conv3DDNNLayer(net['voxres2_relu2'], 64, 3,\n",
    "                                          pad='same', nonlinearity=identity)\n",
    "    net['voxres2_out'] = ElemwiseSumLayer([net['conv1c'],\n",
    "                                           net['voxres2_conv2']])\n",
    "    # VoxRes block 3\n",
    "    net['voxres3_bn1'] = BatchNormLayer(net['voxres2_out'])\n",
    "    net['voxres3_relu1'] = NonlinearityLayer(net['voxres3_bn1'])\n",
    "    net['voxres3_conv1'] = Conv3DDNNLayer(net['voxres3_relu1'], 64, 3,\n",
    "                                          pad='same', nonlinearity=identity)\n",
    "    net['voxres3_bn2'] = BatchNormLayer(net['voxres3_conv1'])\n",
    "    net['voxres3_relu2'] = NonlinearityLayer(net['voxres3_bn2'])\n",
    "    net['voxres3_conv2'] = Conv3DDNNLayer(net['voxres3_relu2'], 64, 3,\n",
    "                                          pad='same', nonlinearity=identity)\n",
    "    net['voxres3_out'] = ElemwiseSumLayer([net['voxres2_out'],\n",
    "                                           net['voxres3_conv2']])\n",
    "\n",
    "    net['bn4'] = BatchNormLayer(net['voxres3_out'])\n",
    "    net['relu4'] = NonlinearityLayer(net['bn4'])\n",
    "    net['conv4'] = Conv3DDNNLayer(net['relu4'], 64, 3, stride=(2, 2, 2),\n",
    "                                  pad='same', nonlinearity=identity)\n",
    "    # VoxRes block 5\n",
    "    net['voxres5_bn1'] = BatchNormLayer(net['conv4'])\n",
    "    net['voxres5_relu1'] = NonlinearityLayer(net['voxres5_bn1'])\n",
    "    net['voxres5_conv1'] = Conv3DDNNLayer(net['voxres5_relu1'], 64, 3,\n",
    "                                          pad='same', nonlinearity=identity)\n",
    "    net['voxres5_bn2'] = BatchNormLayer(net['voxres5_conv1'])\n",
    "    net['voxres5_relu2'] = NonlinearityLayer(net['voxres5_bn2'])\n",
    "    net['voxres5_conv2'] = Conv3DDNNLayer(net['voxres5_relu2'], 64, 3,\n",
    "                                          pad='same', nonlinearity=identity)\n",
    "    net['voxres5_out'] = ElemwiseSumLayer([net['conv4'], net['voxres5_conv2']])\n",
    "    # VoxRes block 6\n",
    "    net['voxres6_bn1'] = BatchNormLayer(net['voxres5_out'])\n",
    "    net['voxres6_relu1'] = NonlinearityLayer(net['voxres6_bn1'])\n",
    "    net['voxres6_conv1'] = Conv3DDNNLayer(net['voxres6_relu1'], 64, 3,\n",
    "                                          pad='same', nonlinearity=identity)\n",
    "    net['voxres6_bn2'] = BatchNormLayer(net['voxres6_conv1'])\n",
    "    net['voxres6_relu2'] = NonlinearityLayer(net['voxres6_bn2'])\n",
    "    net['voxres6_conv2'] = Conv3DDNNLayer(net['voxres6_relu2'], 64, 3,\n",
    "                                          pad='same', nonlinearity=identity)\n",
    "    net['voxres6_out'] = ElemwiseSumLayer([net['voxres5_out'],\n",
    "                                           net['voxres6_conv2']])\n",
    "\n",
    "    net['bn7'] = BatchNormLayer(net['voxres6_out'])\n",
    "    net['relu7'] = NonlinearityLayer(net['bn7'])\n",
    "    net['conv7'] = Conv3DDNNLayer(net['relu7'], 128, 3, stride=(2, 2, 2),\n",
    "                                  pad='same', nonlinearity=identity)\n",
    "\n",
    "    # VoxRes block 8\n",
    "    net['voxres8_bn1'] = BatchNormLayer(net['conv7'])\n",
    "    net['voxres8_relu1'] = NonlinearityLayer(net['voxres8_bn1'])\n",
    "    net['voxres8_conv1'] = Conv3DDNNLayer(net['voxres8_relu1'], 128, 3,\n",
    "                                          pad='same', nonlinearity=identity)\n",
    "    net['voxres8_bn2'] = BatchNormLayer(net['voxres8_conv1'])\n",
    "    net['voxres8_relu2'] = NonlinearityLayer(net['voxres8_bn2'])\n",
    "    net['voxres8_conv2'] = Conv3DDNNLayer(net['voxres8_relu2'], 128, 3,\n",
    "                                          pad='same', nonlinearity=identity)\n",
    "    net['voxres8_out'] = ElemwiseSumLayer([net['conv7'], net['voxres8_conv2']])\n",
    "    # VoxRes block 9\n",
    "    net['voxres9_bn1'] = BatchNormLayer(net['voxres8_out'])\n",
    "    net['voxres9_relu1'] = NonlinearityLayer(net['voxres9_bn1'])\n",
    "    net['voxres9_conv1'] = Conv3DDNNLayer(net['voxres9_relu1'], 128, 3,\n",
    "                                          pad='same', nonlinearity=identity)\n",
    "    net['voxres9_bn2'] = BatchNormLayer(net['voxres9_conv1'])\n",
    "    net['voxres9_relu2'] = NonlinearityLayer(net['voxres9_bn2'])\n",
    "    net['voxres9_conv2'] = Conv3DDNNLayer(net['voxres9_relu2'], 128, 3,\n",
    "                                          pad='same', nonlinearity=identity)\n",
    "    net['voxres9_out'] = ElemwiseSumLayer([net['voxres8_out'],\n",
    "                                           net['voxres9_conv2']])\n",
    "\n",
    "    net['pool10'] = Pool3DDNNLayer(net['voxres9_out'], 7)\n",
    "    net['fc11'] = DenseLayer(net['pool10'], 128)\n",
    "    net['prob'] = DenseLayer(net['fc11'], 2, nonlinearity=softmax)\n",
    "    \n",
    "    return net"
   ]
  },
  {
   "cell_type": "markdown",
   "metadata": {},
   "source": [
    "### Network initialization with pretrained weights"
   ]
  },
  {
   "cell_type": "code",
   "execution_count": null,
   "metadata": {
    "collapsed": true
   },
   "outputs": [],
   "source": [
    "net = build_net()\n",
    "test_prediction = lasagne.layers.get_output(net['prob'], deterministic=True)\n",
    "test_fn = theano.function([input_var], test_prediction)\n",
    "\n",
    "with open('data/resnet_weights.pkl', 'rb') as f:\n",
    "    weights = pickle.load(f)\n",
    "    lasagne.layers.set_all_param_values(net['prob'], weights)"
   ]
  },
  {
   "cell_type": "markdown",
   "metadata": {},
   "source": [
    "### Load data and split into the same validation folds"
   ]
  },
  {
   "cell_type": "code",
   "execution_count": null,
   "metadata": {},
   "outputs": [],
   "source": [
    "metadata = pd.read_csv('data/metadata.csv')\n",
    "smc_mask = ((metadata.Label == 'Normal') | (\n",
    "    metadata.Label == 'AD')).values.astype('bool')\n",
    "data = np.zeros((smc_mask.sum(), 1, 110, 110, 110), dtype='float32')\n",
    "\n",
    "for it, im in tqdm(enumerate(metadata[smc_mask].Path.values),\n",
    "                   total=smc_mask.sum(), desc='Reading MRI to memory'):\n",
    "    mx = nib.load(im).get_data().max(axis=0).max(axis=0).max(axis=0)\n",
    "    data[it, 0, :, :, :] = np.array(nib.load(im).get_data()) / mx\n",
    "\n",
    "target = (metadata[smc_mask].Label != 'Normal').values.astype('int32')\n",
    "\n",
    "cv = StratifiedKFold(target, n_folds=5, random_state=0, shuffle=True)"
   ]
  },
  {
   "cell_type": "markdown",
   "metadata": {},
   "source": [
    "### Select sample for heatmap plot"
   ]
  },
  {
   "cell_type": "code",
   "execution_count": null,
   "metadata": {},
   "outputs": [],
   "source": [
    "for fold, (train_index, test_index) in enumerate(cv):\n",
    "    X_train, y_train = data[train_index], target[train_index]\n",
    "    X_test, y_test = data[test_index], target[test_index]\n",
    "\n",
    "    for it, img in enumerate(X_test):\n",
    "        print(test_fn(img.reshape((1, 1, 110, 110, 110))).reshape(-1,),\n",
    "              y_test[it])\n",
    "    break"
   ]
  },
  {
   "cell_type": "code",
   "execution_count": null,
   "metadata": {},
   "outputs": [],
   "source": [
    "res = occlusion_heatmap(net, X_test[2].reshape(1, 1, 110, 110, 110), 0)"
   ]
  },
  {
   "cell_type": "markdown",
   "metadata": {},
   "source": [
    "### Plot heatmap as overlay"
   ]
  },
  {
   "cell_type": "code",
   "execution_count": null,
   "metadata": {
    "collapsed": true
   },
   "outputs": [],
   "source": [
    "plt.figure(figsize=(14, 5))\n",
    "plt.subplot(1, 2, 1)\n",
    "plt.axis('off')\n",
    "matr = rotate(X_test[2][:, :, :, 47].reshape(110, 110), 90)\n",
    "plt.imshow(matr, cmap=plt.cm.Greys_r, interpolation=None,\n",
    "           vmax=1., vmin=0.)\n",
    "plt.hold(True)\n",
    "matr = rotate(res[:, :, 47, 0].reshape(110, 110), 90)\n",
    "plt.imshow(200. * (1 - np.ma.masked_where(matr > .999, matr)),\n",
    "           interpolation=None, vmax=1., vmin=.0, alpha=.8,\n",
    "           cmap=plt.cm.viridis_r)\n",
    "plt.subplot(1, 2, 2)\n",
    "plt.axis('off')\n",
    "matr = rotate(X_test[2][:, 57, :, :].reshape(110, 110), 90)\n",
    "plt.imshow(matr, cmap=plt.cm.Greys_r, interpolation=None,\n",
    "           vmax=1., vmin=0.)\n",
    "plt.hold(True)\n",
    "matr = rotate(res[57, :, :, 0].reshape(110, 110), 90)\n",
    "plt.imshow(200. * (1 - np.ma.masked_where(matr > .999, matr)),\n",
    "           interpolation=None, vmax=1., vmin=.0, alpha=.8,\n",
    "           cmap=plt.cm.viridis_r)\n",
    "cbar = plt.colorbar()\n",
    "cbar.ax.tick_params(labelsize=20)\n",
    "plt.show()"
   ]
  }
 ],
 "metadata": {
  "kernelspec": {
   "display_name": "Python 3",
   "language": "python",
   "name": "python3"
  },
  "language_info": {
   "codemirror_mode": {
    "name": "ipython",
    "version": 3
   },
   "file_extension": ".py",
   "mimetype": "text/x-python",
   "name": "python",
   "nbconvert_exporter": "python",
   "pygments_lexer": "ipython3",
   "version": "3.6.3"
  }
 },
 "nbformat": 4,
 "nbformat_minor": 1
}
